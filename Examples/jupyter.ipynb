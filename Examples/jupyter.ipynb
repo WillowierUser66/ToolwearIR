{
 "cells": [
  {
   "cell_type": "markdown",
   "metadata": {},
   "source": [
    "# Interacting with the Lepton from Python\n",
    "\n",
    "If you're new to Jupyter these are the basics. Code is organized into \"cells\" which are blocks of code that can \n",
    "be run one at a time, in any order.\n",
    "You can execute blocks by highlighting the cell and entering shift+enter or by clicking Run > Run Selected Cells.\n",
    "\n",
    "Note that a line begining with `!` will be executed in the shell/command prompt of your system. Use the following cell to make\n",
    "sure you have all of the dependencies of this notebook."
   ]
  },
  {
   "cell_type": "code",
   "execution_count": 1,
   "metadata": {},
   "outputs": [
    {
     "name": "stdout",
     "output_type": "stream",
     "text": [
      "Requirement already satisfied: pythonnet in c:\\users\\juanp\\onedrive - the university of texas at el paso\\documents\\github\\toolwearir\\.venv\\lib\\site-packages (3.0.5)\n",
      "Requirement already satisfied: clr_loader<0.3.0,>=0.2.7 in c:\\users\\juanp\\onedrive - the university of texas at el paso\\documents\\github\\toolwearir\\.venv\\lib\\site-packages (from pythonnet) (0.2.7.post0)\n",
      "Requirement already satisfied: cffi>=1.17 in c:\\users\\juanp\\onedrive - the university of texas at el paso\\documents\\github\\toolwearir\\.venv\\lib\\site-packages (from clr_loader<0.3.0,>=0.2.7->pythonnet) (2.0.0)\n",
      "Requirement already satisfied: pycparser in c:\\users\\juanp\\onedrive - the university of texas at el paso\\documents\\github\\toolwearir\\.venv\\lib\\site-packages (from cffi>=1.17->clr_loader<0.3.0,>=0.2.7->pythonnet) (2.23)\n",
      "Requirement already satisfied: numpy in c:\\users\\juanp\\onedrive - the university of texas at el paso\\documents\\github\\toolwearir\\.venv\\lib\\site-packages (2.2.6)\n",
      "Requirement already satisfied: matplotlib in c:\\users\\juanp\\onedrive - the university of texas at el paso\\documents\\github\\toolwearir\\.venv\\lib\\site-packages (3.10.6)\n",
      "Requirement already satisfied: contourpy>=1.0.1 in c:\\users\\juanp\\onedrive - the university of texas at el paso\\documents\\github\\toolwearir\\.venv\\lib\\site-packages (from matplotlib) (1.3.3)\n",
      "Requirement already satisfied: cycler>=0.10 in c:\\users\\juanp\\onedrive - the university of texas at el paso\\documents\\github\\toolwearir\\.venv\\lib\\site-packages (from matplotlib) (0.12.1)\n",
      "Requirement already satisfied: fonttools>=4.22.0 in c:\\users\\juanp\\onedrive - the university of texas at el paso\\documents\\github\\toolwearir\\.venv\\lib\\site-packages (from matplotlib) (4.60.0)\n",
      "Requirement already satisfied: kiwisolver>=1.3.1 in c:\\users\\juanp\\onedrive - the university of texas at el paso\\documents\\github\\toolwearir\\.venv\\lib\\site-packages (from matplotlib) (1.4.9)\n",
      "Requirement already satisfied: numpy>=1.23 in c:\\users\\juanp\\onedrive - the university of texas at el paso\\documents\\github\\toolwearir\\.venv\\lib\\site-packages (from matplotlib) (2.2.6)\n",
      "Requirement already satisfied: packaging>=20.0 in c:\\users\\juanp\\onedrive - the university of texas at el paso\\documents\\github\\toolwearir\\.venv\\lib\\site-packages (from matplotlib) (25.0)\n",
      "Requirement already satisfied: pillow>=8 in c:\\users\\juanp\\onedrive - the university of texas at el paso\\documents\\github\\toolwearir\\.venv\\lib\\site-packages (from matplotlib) (11.3.0)\n",
      "Requirement already satisfied: pyparsing>=2.3.1 in c:\\users\\juanp\\onedrive - the university of texas at el paso\\documents\\github\\toolwearir\\.venv\\lib\\site-packages (from matplotlib) (3.2.5)\n",
      "Requirement already satisfied: python-dateutil>=2.7 in c:\\users\\juanp\\onedrive - the university of texas at el paso\\documents\\github\\toolwearir\\.venv\\lib\\site-packages (from matplotlib) (2.9.0.post0)\n",
      "Requirement already satisfied: six>=1.5 in c:\\users\\juanp\\onedrive - the university of texas at el paso\\documents\\github\\toolwearir\\.venv\\lib\\site-packages (from python-dateutil>=2.7->matplotlib) (1.17.0)\n"
     ]
    }
   ],
   "source": [
    "! python -m pip install pythonnet \n",
    "! python -m pip install numpy \n",
    "! python -m pip install matplotlib "
   ]
  },
  {
   "cell_type": "markdown",
   "metadata": {},
   "source": [
    "## Setup Python's path for the Lepton .NET dlls\n",
    "\n",
    "Note that because this is a .NET library, it uses .NET naming conventions \n",
    "and requires importing `clr` (provided by the `pythonnet` package on pip).\n",
    "\n",
    "This first cell adds the right version (64 bit vs 32 bit) of the library to \n",
    "python's path based on the bit-depth of the python thats currently running. "
   ]
  },
  {
   "cell_type": "code",
   "execution_count": 2,
   "metadata": {},
   "outputs": [],
   "source": [
    "import clr # needs the \"pythonnet\" package\n",
    "import sys\n",
    "import os\n",
    "import time\n",
    "\n",
    "# check whether python is running as 64bit or 32bit\n",
    "# to import the right .NET dll\n",
    "import platform\n",
    "bits, name = platform.architecture()\n",
    "\n",
    "if bits == \"64bit\":\n",
    "\tfolder = [\"x64\"]\n",
    "else:\n",
    "\tfolder = [\"x86\"]\n",
    "\n",
    "sys.path.append(os.path.join(\"..\", *folder))"
   ]
  },
  {
   "cell_type": "markdown",
   "metadata": {},
   "source": [
    "## Import the CCI SDK"
   ]
  },
  {
   "cell_type": "code",
   "execution_count": 3,
   "metadata": {},
   "outputs": [],
   "source": [
    "# AddReference makes the following `From Lepton ...` line \n",
    "# run by hooking the LeptonUVC dll into the python import \n",
    "# mechanism\n",
    "clr.AddReference(\"LeptonUVC\")\n",
    "\n",
    "from Lepton import CCI"
   ]
  },
  {
   "cell_type": "markdown",
   "metadata": {},
   "source": [
    "Look for a PureThermal USB device."
   ]
  },
  {
   "cell_type": "code",
   "execution_count": 28,
   "metadata": {},
   "outputs": [],
   "source": [
    "found_device = None\n",
    "for device in CCI.GetDevices():\n",
    "    if device.Name.startswith(\"PureThermal\"):\n",
    "        found_device = device\n",
    "        break\n",
    "\n",
    "if not found_device:\n",
    "    print(\"Couldn't find lepton device\")\n",
    "else:\n",
    "    lep = found_device.Open()"
   ]
  },
  {
   "cell_type": "markdown",
   "metadata": {},
   "source": [
    "Get the current camera uptime. This is a good way to test if the \n",
    "connection is working."
   ]
  },
  {
   "cell_type": "code",
   "execution_count": 29,
   "metadata": {},
   "outputs": [
    {
     "ename": "UnknownError",
     "evalue": "Exception of type 'Lepton.CCI+UnknownError' was thrown.\r\n   at Lepton.CCI.Oem.GetSoftwareVersion()",
     "output_type": "error",
     "traceback": [
      "\u001b[1;31m---------------------------------------------------------------------------\u001b[0m",
      "\u001b[1;31mUnknownError\u001b[0m                              Traceback (most recent call last)",
      "Cell \u001b[1;32mIn[29], line 1\u001b[0m\n\u001b[1;32m----> 1\u001b[0m \u001b[38;5;28mstr\u001b[39m(\u001b[43mlep\u001b[49m\u001b[38;5;241;43m.\u001b[39;49m\u001b[43moem\u001b[49m\u001b[38;5;241;43m.\u001b[39;49m\u001b[43mGetSoftwareVersion\u001b[49m\u001b[43m(\u001b[49m\u001b[43m)\u001b[49m)\n",
      "\u001b[1;31mUnknownError\u001b[0m: Exception of type 'Lepton.CCI+UnknownError' was thrown.\r\n   at Lepton.CCI.Oem.GetSoftwareVersion()"
     ]
    }
   ],
   "source": [
    "str(lep.oem.GetSoftwareVersion())"
   ]
  },
  {
   "cell_type": "code",
   "execution_count": 12,
   "metadata": {},
   "outputs": [
    {
     "ename": "UnknownError",
     "evalue": "Exception of type 'Lepton.CCI+UnknownError' was thrown.\r\n   at Lepton.CCI.Sys.GetCameraUpTime()",
     "output_type": "error",
     "traceback": [
      "\u001b[1;31m---------------------------------------------------------------------------\u001b[0m",
      "\u001b[1;31mUnknownError\u001b[0m                              Traceback (most recent call last)",
      "Cell \u001b[1;32mIn[12], line 1\u001b[0m\n\u001b[1;32m----> 1\u001b[0m \u001b[43mlep\u001b[49m\u001b[38;5;241;43m.\u001b[39;49m\u001b[43msys\u001b[49m\u001b[38;5;241;43m.\u001b[39;49m\u001b[43mGetCameraUpTime\u001b[49m\u001b[43m(\u001b[49m\u001b[43m)\u001b[49m\n",
      "\u001b[1;31mUnknownError\u001b[0m: Exception of type 'Lepton.CCI+UnknownError' was thrown.\r\n   at Lepton.CCI.Sys.GetCameraUpTime()"
     ]
    }
   ],
   "source": [
    "lep.sys.GetCameraUpTime()"
   ]
  },
  {
   "cell_type": "markdown",
   "metadata": {},
   "source": []
  },
  {
   "cell_type": "markdown",
   "metadata": {},
   "source": [
    "Run a FFC. If this command executes successfully, the shutter on the lepton should close and open."
   ]
  },
  {
   "cell_type": "code",
   "execution_count": null,
   "metadata": {},
   "outputs": [],
   "source": [
    "lep.sys.RunFFCNormalization()"
   ]
  },
  {
   "cell_type": "markdown",
   "metadata": {},
   "source": [
    "Get the current palette (**P**seudo-**color** **L**ook **U**p **T**able)"
   ]
  },
  {
   "cell_type": "code",
   "execution_count": 23,
   "metadata": {},
   "outputs": [
    {
     "ename": "UnknownError",
     "evalue": "Exception of type 'Lepton.CCI+UnknownError' was thrown.\r\n   at Lepton.CCI.Vid.GetPcolorLut()",
     "output_type": "error",
     "traceback": [
      "\u001b[1;31m---------------------------------------------------------------------------\u001b[0m",
      "\u001b[1;31mUnknownError\u001b[0m                              Traceback (most recent call last)",
      "Cell \u001b[1;32mIn[23], line 1\u001b[0m\n\u001b[1;32m----> 1\u001b[0m \u001b[43mlep\u001b[49m\u001b[38;5;241;43m.\u001b[39;49m\u001b[43mvid\u001b[49m\u001b[38;5;241;43m.\u001b[39;49m\u001b[43mGetPcolorLut\u001b[49m\u001b[43m(\u001b[49m\u001b[43m)\u001b[49m\n",
      "\u001b[1;31mUnknownError\u001b[0m: Exception of type 'Lepton.CCI+UnknownError' was thrown.\r\n   at Lepton.CCI.Vid.GetPcolorLut()"
     ]
    }
   ],
   "source": [
    "lep.vid.GetPcolorLut()"
   ]
  },
  {
   "cell_type": "code",
   "execution_count": 14,
   "metadata": {},
   "outputs": [
    {
     "ename": "UnknownError",
     "evalue": "Exception of type 'Lepton.CCI+UnknownError' was thrown.\r\n   at Lepton.CCI.Sys.SetGainMode(GainMode source)",
     "output_type": "error",
     "traceback": [
      "\u001b[1;31m---------------------------------------------------------------------------\u001b[0m",
      "\u001b[1;31mUnknownError\u001b[0m                              Traceback (most recent call last)",
      "Cell \u001b[1;32mIn[14], line 1\u001b[0m\n\u001b[1;32m----> 1\u001b[0m \u001b[43mlep\u001b[49m\u001b[38;5;241;43m.\u001b[39;49m\u001b[43msys\u001b[49m\u001b[38;5;241;43m.\u001b[39;49m\u001b[43mSetGainMode\u001b[49m\u001b[43m(\u001b[49m\u001b[43mCCI\u001b[49m\u001b[38;5;241;43m.\u001b[39;49m\u001b[43mSys\u001b[49m\u001b[38;5;241;43m.\u001b[39;49m\u001b[43mGainMode\u001b[49m\u001b[38;5;241;43m.\u001b[39;49m\u001b[43mLOW\u001b[49m\u001b[43m)\u001b[49m\n",
      "\u001b[1;31mUnknownError\u001b[0m: Exception of type 'Lepton.CCI+UnknownError' was thrown.\r\n   at Lepton.CCI.Sys.SetGainMode(GainMode source)"
     ]
    }
   ],
   "source": [
    "lep.sys.SetGainMode(CCI.Sys.GainMode.LOW)"
   ]
  },
  {
   "cell_type": "markdown",
   "metadata": {},
   "source": [
    "You can assign the palette with either its index or\n",
    "its name"
   ]
  },
  {
   "cell_type": "code",
   "execution_count": 15,
   "metadata": {},
   "outputs": [
    {
     "ename": "UnknownError",
     "evalue": "Exception of type 'Lepton.CCI+UnknownError' was thrown.\r\n   at Lepton.CCI.Vid.SetPcolorLut(PcolorLut source)",
     "output_type": "error",
     "traceback": [
      "\u001b[1;31m---------------------------------------------------------------------------\u001b[0m",
      "\u001b[1;31mUnknownError\u001b[0m                              Traceback (most recent call last)",
      "Cell \u001b[1;32mIn[15], line 1\u001b[0m\n\u001b[1;32m----> 1\u001b[0m \u001b[43mlep\u001b[49m\u001b[38;5;241;43m.\u001b[39;49m\u001b[43mvid\u001b[49m\u001b[38;5;241;43m.\u001b[39;49m\u001b[43mSetPcolorLut\u001b[49m\u001b[43m(\u001b[49m\u001b[43mlep\u001b[49m\u001b[38;5;241;43m.\u001b[39;49m\u001b[43mvid\u001b[49m\u001b[38;5;241;43m.\u001b[39;49m\u001b[43mPcolorLut\u001b[49m\u001b[38;5;241;43m.\u001b[39;49m\u001b[43mRAIN_LUT\u001b[49m\u001b[43m)\u001b[49m\n",
      "\u001b[1;31mUnknownError\u001b[0m: Exception of type 'Lepton.CCI+UnknownError' was thrown.\r\n   at Lepton.CCI.Vid.SetPcolorLut(PcolorLut source)"
     ]
    }
   ],
   "source": [
    "lep.vid.SetPcolorLut(lep.vid.PcolorLut.RAIN_LUT)\n"
   ]
  },
  {
   "cell_type": "markdown",
   "metadata": {},
   "source": [
    "The full list of available palettes is:"
   ]
  },
  {
   "cell_type": "code",
   "execution_count": 30,
   "metadata": {},
   "outputs": [
    {
     "data": {
      "text/plain": [
       "['WHEEL6_LUT',\n",
       " 'FUSION_LUT',\n",
       " 'RAINBOW_LUT',\n",
       " 'GLOBOW_LUT',\n",
       " 'SEPIA_LUT',\n",
       " 'COLOR_LUT',\n",
       " 'ICE_FIRE_LUT',\n",
       " 'RAIN_LUT',\n",
       " 'USER_LUT']"
      ]
     },
     "execution_count": 30,
     "metadata": {},
     "output_type": "execute_result"
    }
   ],
   "source": [
    "from System import Enum\n",
    "list(Enum.GetNames(CCI.Vid.PcolorLut))"
   ]
  },
  {
   "cell_type": "markdown",
   "metadata": {},
   "source": [
    "## Streaming frames from the Lepton\n",
    "\n",
    "Make sure to keep track of the capture object because creating more than one instance\n",
    "of it during a single session can cause problems. \n",
    "\n",
    "IR16Filters is a library for grabbing Y16 (16 bit greyscale) images from a webcam\n",
    "because most webcam libraries don't support this format.\n",
    "\n",
    "numpy is a library for number crunching in python that we can use to hold incomming \n",
    "images as 2-dimensional arrays, and matplotlib supports displaying and colorizing \n",
    "incomming images."
   ]
  },
  {
   "cell_type": "code",
   "execution_count": 31,
   "metadata": {},
   "outputs": [],
   "source": [
    "clr.AddReference(\"ManagedIR16Filters\")\n",
    "from IR16Filters import IR16Capture, NewIR16FrameEvent, NewBytesFrameEvent\n",
    "\n",
    "import numpy\n",
    "from matplotlib import pyplot as plt\n",
    "# %matplotlib inline is Jupyter magic to display plot results inline in the \n",
    "# notebook\n",
    "%matplotlib inline\n",
    "\n",
    "capture = None"
   ]
  },
  {
   "cell_type": "markdown",
   "metadata": {},
   "source": [
    "Start saving incomming images in a queue with a max size so we don't \n",
    "use too much memory. Set maxlen higher values to keep more history. "
   ]
  },
  {
   "cell_type": "code",
   "execution_count": 32,
   "metadata": {},
   "outputs": [],
   "source": [
    "from collections import deque\n",
    "\n",
    "# change maxlen to control the number of frames of history we want to keep\n",
    "incoming_frames = deque(maxlen=10)\n",
    "def got_a_frame(short_array, width, height):\n",
    "    incoming_frames.append((height, width, short_array))\n",
    "\n",
    "if capture != None:\n",
    "    # don't recreate capture if we already made one\n",
    "    capture.RunGraph()\n",
    "else:\n",
    "    capture = IR16Capture()\n",
    "    capture.SetupGraphWithBytesCallback(NewBytesFrameEvent(got_a_frame))\n",
    "    capture.RunGraph()"
   ]
  },
  {
   "cell_type": "markdown",
   "metadata": {},
   "source": [
    "Skip executing the next cell to keep `incomming_frames`\n",
    "always stocked with new images"
   ]
  },
  {
   "cell_type": "code",
   "execution_count": 33,
   "metadata": {},
   "outputs": [
    {
     "data": {
      "text/plain": [
       "True"
      ]
     },
     "execution_count": 33,
     "metadata": {},
     "output_type": "execute_result"
    }
   ],
   "source": [
    "capture.StopGraph()"
   ]
  },
  {
   "cell_type": "code",
   "execution_count": 34,
   "metadata": {},
   "outputs": [],
   "source": [
    "def short_array_to_numpy(height, width, frame):\n",
    "    return numpy.fromiter(frame, dtype=\"uint16\").reshape(height, width)"
   ]
  },
  {
   "cell_type": "markdown",
   "metadata": {},
   "source": [
    "Grab the most recent image in the queue (python indexes negative numbers\n",
    "backwards from the end of arrays) and display it with matplotlib.\n",
    "\n",
    "If the graph is currently running, this should update the frame everytime you\n",
    "re-run the following cell. "
   ]
  },
  {
   "cell_type": "code",
   "execution_count": 35,
   "metadata": {},
   "outputs": [
    {
     "ename": "IndexError",
     "evalue": "deque index out of range",
     "output_type": "error",
     "traceback": [
      "\u001b[1;31m---------------------------------------------------------------------------\u001b[0m",
      "\u001b[1;31mIndexError\u001b[0m                                Traceback (most recent call last)",
      "Cell \u001b[1;32mIn[35], line 3\u001b[0m\n\u001b[0;32m      1\u001b[0m \u001b[38;5;28;01mfrom\u001b[39;00m\u001b[38;5;250m \u001b[39m\u001b[38;5;21;01mmatplotlib\u001b[39;00m\u001b[38;5;250m \u001b[39m\u001b[38;5;28;01mimport\u001b[39;00m cm\n\u001b[1;32m----> 3\u001b[0m height, width, net_array \u001b[38;5;241m=\u001b[39m \u001b[43mincoming_frames\u001b[49m\u001b[43m[\u001b[49m\u001b[38;5;241;43m-\u001b[39;49m\u001b[38;5;241;43m1\u001b[39;49m\u001b[43m]\u001b[49m\n\u001b[0;32m      4\u001b[0m arr \u001b[38;5;241m=\u001b[39m short_array_to_numpy(height, width, net_array)\n\u001b[0;32m      6\u001b[0m plt\u001b[38;5;241m.\u001b[39mimshow(arr, cmap\u001b[38;5;241m=\u001b[39mcm\u001b[38;5;241m.\u001b[39mplasma)\n",
      "\u001b[1;31mIndexError\u001b[0m: deque index out of range"
     ]
    }
   ],
   "source": [
    "from matplotlib import cm\n",
    "\n",
    "height, width, net_array = incoming_frames[-1]\n",
    "arr = short_array_to_numpy(height, width, net_array)\n",
    "\n",
    "plt.imshow(arr, cmap=cm.plasma)"
   ]
  },
  {
   "cell_type": "markdown",
   "metadata": {},
   "source": [
    "You can show the image with a variety of different colormaps. This doesn't use the lepton\n",
    "palette, because we are getting the raw 16-bit image and matplotlib is colorizing it for display purposes. \n",
    "\n",
    "`cm.viridis` and `cm.plasma` are both perceptually uniform and should use most of their colorspaces. `cm.bwr` gives a nice hot and cold effect. A full list of avaiable colormaps can be found in \n",
    "the matplotlib docs:\n",
    "[matplotlib.org/examples/color/colormaps_reference.html](https://matplotlib.org/examples/color/colormaps_reference.html)"
   ]
  },
  {
   "cell_type": "markdown",
   "metadata": {},
   "source": [
    "## Dealing with temperatures\n",
    "\n",
    "If you are using a Lepton 2.5 or 3.5, radiometry should be enabled. When radiometry is on, \n",
    "pixel values are in centikelvin so that they can be represented by unsigned 16 bit integers.\n",
    "Note that 100cK = 1K. \n",
    "Converting to Celcius can be done by dividing by 100 and subtracting absolute zero as shown below.\n",
    "\n",
    "The following only works if the camera supports tlinear. Use the block \n",
    "below to test support."
   ]
  },
  {
   "cell_type": "code",
   "execution_count": 36,
   "metadata": {},
   "outputs": [
    {
     "name": "stdout",
     "output_type": "stream",
     "text": [
      "this lepton does not support tlinear\n"
     ]
    }
   ],
   "source": [
    "try:\n",
    "    lep.rad.SetTLinearEnableStateChecked(True)\n",
    "    print(\"this lepton supports tlinear\")\n",
    "except:\n",
    "    print(\"this lepton does not support tlinear\")"
   ]
  },
  {
   "cell_type": "code",
   "execution_count": 37,
   "metadata": {},
   "outputs": [
    {
     "ename": "IndexError",
     "evalue": "deque index out of range",
     "output_type": "error",
     "traceback": [
      "\u001b[1;31m---------------------------------------------------------------------------\u001b[0m",
      "\u001b[1;31mIndexError\u001b[0m                                Traceback (most recent call last)",
      "Cell \u001b[1;32mIn[37], line 1\u001b[0m\n\u001b[1;32m----> 1\u001b[0m height, width, net_array \u001b[38;5;241m=\u001b[39m \u001b[43mincoming_frames\u001b[49m\u001b[43m[\u001b[49m\u001b[38;5;241;43m-\u001b[39;49m\u001b[38;5;241;43m1\u001b[39;49m\u001b[43m]\u001b[49m\n\u001b[0;32m      2\u001b[0m arr \u001b[38;5;241m=\u001b[39m short_array_to_numpy(height, width, net_array)\n\u001b[0;32m      4\u001b[0m \u001b[38;5;28;01mdef\u001b[39;00m\u001b[38;5;250m \u001b[39m\u001b[38;5;21mcentikelvin_to_celsius\u001b[39m(t):\n",
      "\u001b[1;31mIndexError\u001b[0m: deque index out of range"
     ]
    }
   ],
   "source": [
    "height, width, net_array = incoming_frames[-1]\n",
    "arr = short_array_to_numpy(height, width, net_array)\n",
    "\n",
    "def centikelvin_to_celsius(t):\n",
    "    return (t - 27315) / 100\n",
    "\n",
    "def to_fahrenheit(ck):\n",
    "    c = centikelvin_to_celsius(ck)\n",
    "    return c * 9 / 5 + 32\n",
    "\n",
    "# get the max image temp\n",
    "print(\"maximum temp {:.2f} ºF / {:.2f} ºC\".format(\n",
    "    to_fahrenheit(arr.max()), centikelvin_to_celsius(arr.max())))\n",
    "# get the average image temp\n",
    "print(\"average temp {:.2f} ºF / {:.2f} ºC\".format(\n",
    "    to_fahrenheit(arr.mean()), centikelvin_to_celsius(arr.mean())))"
   ]
  },
  {
   "cell_type": "code",
   "execution_count": null,
   "metadata": {},
   "outputs": [],
   "source": []
  }
 ],
 "metadata": {
  "kernelspec": {
   "display_name": ".venv",
   "language": "python",
   "name": "python3"
  },
  "language_info": {
   "codemirror_mode": {
    "name": "ipython",
    "version": 3
   },
   "file_extension": ".py",
   "mimetype": "text/x-python",
   "name": "python",
   "nbconvert_exporter": "python",
   "pygments_lexer": "ipython3",
   "version": "3.13.7"
  }
 },
 "nbformat": 4,
 "nbformat_minor": 2
}
